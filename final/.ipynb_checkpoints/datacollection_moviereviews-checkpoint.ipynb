{
 "cells": [
  {
   "cell_type": "code",
   "execution_count": 1,
   "metadata": {
    "collapsed": false
   },
   "outputs": [
    {
     "name": "stdout",
     "output_type": "stream",
     "text": [
      "..\\data\\raw_data\\movies\n",
      "Creating data directory: ..\\data\\raw_data\\movies\n",
      "..\\data\\raw_data\\movies is a directory\n",
      "80ef96e9967f4da393947326fb9f07e6\n"
     ]
    }
   ],
   "source": [
    "# Import the modules we need.\n",
    "from bs4 import BeautifulSoup\n",
    "from bs4 import SoupStrainer\n",
    "import datetime\n",
    "from glob import glob\n",
    "import json\n",
    "import os\n",
    "import re\n",
    "import requests\n",
    "import string\n",
    "import sys\n",
    "import time\n",
    "\n",
    "\n",
    "# Path to the data directory into which downloaded JSON is saved.\n",
    "data_path = os.path.join(\"..\", \"data\", \"raw_data\", \"movies\")\n",
    "print(data_path)\n",
    "\n",
    "if not os.path.exists(data_path):\n",
    "    print(\"Creating data directory: {}\".format(data_path))\n",
    "    os.makedirs(data_path)\n",
    "\n",
    "if os.path.isdir(data_path):\n",
    "    print(data_path + \" is a directory\")\n",
    "else:\n",
    "    print(data_path + \" is NOT a directory - something is wrong :(\")\n",
    "\n",
    "\n",
    "# NYT API Key needs to be set in the environment before running this notebook.\n",
    "\n",
    "nyt_archive_key = os.getenv('nyt_archive_key')\n",
    "print(nyt_archive_key)\n",
    "\n",
    "if (nyt_archive_key is None) or (nyt_archive_key == ''):\n",
    "    print(\"NYT API key is missing - it should be in an environment variable named 'nyt_archive_key'\")"
   ]
  },
  {
   "cell_type": "code",
   "execution_count": 2,
   "metadata": {
    "collapsed": true
   },
   "outputs": [],
   "source": [
    "# General-purpose utility function for saving an object as JSON to the data directory.\n",
    "def save_to_json(obj, save_file_path):\n",
    "    print(\"saving to file: \" + save_file_path)\n",
    "\n",
    "    with open(save_file_path, \"wt\") as f:\n",
    "        json.dump(obj, f)\n",
    "        \n",
    "# General function for getting JSON, either by downloading or from a cache file.\n",
    "def resolve_nyt_json(url, cache_file, request_params={}):\n",
    "    if os.path.isfile(cache_file):\n",
    "        # Cache file exists, so use that.\n",
    "        result = {}\n",
    "        with open(cache_file, 'rt') as f:\n",
    "            try:\n",
    "                result = json.load(f)\n",
    "            except ValueError:\n",
    "                result = {}\n",
    "                \n",
    "        print(\"resolve_nyt_json(): returning value from cache file: \" + cache_file)\n",
    "        return result\n",
    "\n",
    "    # It's not in the cache, so download and save it.\n",
    "    print(\"resolve_nyt_json(): downloading from NYT API\")\n",
    "\n",
    "    response = requests.get(url, params=request_params)\n",
    "    print(response.status_code)\n",
    "        \n",
    "    # Sleep after a request, to avoid being rate-limited by the NYT servers.\n",
    "    time.sleep(5)\n",
    "    \n",
    "    if 200 == response.status_code:\n",
    "        save_to_json(response.json(), cache_file)\n",
    "    else:\n",
    "        print(\"resolve_nyt_json(): error downloading from NYT API ({code})\".format(code=response.status_code))\n",
    "        return {}\n",
    "        \n",
    "    return response.json()"
   ]
  },
  {
   "cell_type": "code",
   "execution_count": 3,
   "metadata": {
    "collapsed": false
   },
   "outputs": [],
   "source": [
    "# URL for calls to search/v2/articlesearch.\n",
    "def get_movie_reviews_url():\n",
    "    return \"https://api.nytimes.com/svc/movies/v2/reviews/all.json\"\n",
    "\n",
    "# Name of the cache file for calls to reviews/search.\n",
    "def get_movie_reviews_cache_file_path(offset):\n",
    "    filename = \"movie_reviews_{offset}.json\".format(offset=offset)\n",
    "    print(filename)\n",
    "    return os.path.join(data_path, filename)\n",
    "\n",
    "# Name of the cache file for calls to reviews/search.\n",
    "def get_movie_reviews_params(offset):\n",
    "    return {'api-key':nyt_archive_key, \n",
    "            'offset':offset}\n",
    "\n",
    "# Convenience routine for getting the result of an article search.\n",
    "def resolve_movie_reviews(offset):\n",
    "    return resolve_nyt_json(get_movie_reviews_url(), \n",
    "                            get_movie_reviews_cache_file_path(offset), \n",
    "                            get_movie_reviews_params(offset))"
   ]
  },
  {
   "cell_type": "code",
   "execution_count": null,
   "metadata": {
    "collapsed": false
   },
   "outputs": [
    {
     "name": "stdout",
     "output_type": "stream",
     "text": [
      "movie_reviews_0.json\n",
      "resolve_nyt_json(): downloading from NYT API\n",
      "200\n",
      "saving to file: ..\\data\\raw_data\\movies\\movie_reviews_0.json\n",
      "movie_reviews_20.json\n",
      "resolve_nyt_json(): downloading from NYT API\n",
      "200\n",
      "saving to file: ..\\data\\raw_data\\movies\\movie_reviews_20.json\n",
      "movie_reviews_40.json\n",
      "resolve_nyt_json(): downloading from NYT API\n",
      "200\n",
      "saving to file: ..\\data\\raw_data\\movies\\movie_reviews_40.json\n",
      "movie_reviews_60.json\n",
      "resolve_nyt_json(): downloading from NYT API\n",
      "200\n",
      "saving to file: ..\\data\\raw_data\\movies\\movie_reviews_60.json\n",
      "movie_reviews_80.json\n",
      "resolve_nyt_json(): downloading from NYT API\n",
      "200\n",
      "saving to file: ..\\data\\raw_data\\movies\\movie_reviews_80.json\n",
      "movie_reviews_100.json\n",
      "resolve_nyt_json(): downloading from NYT API\n",
      "200\n",
      "saving to file: ..\\data\\raw_data\\movies\\movie_reviews_100.json\n",
      "movie_reviews_120.json\n",
      "resolve_nyt_json(): downloading from NYT API\n",
      "200\n",
      "saving to file: ..\\data\\raw_data\\movies\\movie_reviews_120.json\n",
      "movie_reviews_140.json\n",
      "resolve_nyt_json(): downloading from NYT API\n",
      "200\n",
      "saving to file: ..\\data\\raw_data\\movies\\movie_reviews_140.json\n",
      "movie_reviews_160.json\n",
      "resolve_nyt_json(): downloading from NYT API\n",
      "200\n",
      "saving to file: ..\\data\\raw_data\\movies\\movie_reviews_160.json\n",
      "movie_reviews_180.json\n",
      "resolve_nyt_json(): downloading from NYT API\n",
      "200\n",
      "saving to file: ..\\data\\raw_data\\movies\\movie_reviews_180.json\n",
      "movie_reviews_200.json\n",
      "resolve_nyt_json(): downloading from NYT API\n",
      "200\n",
      "saving to file: ..\\data\\raw_data\\movies\\movie_reviews_200.json\n",
      "movie_reviews_220.json\n",
      "resolve_nyt_json(): downloading from NYT API\n",
      "200\n",
      "saving to file: ..\\data\\raw_data\\movies\\movie_reviews_220.json\n",
      "movie_reviews_240.json\n",
      "resolve_nyt_json(): downloading from NYT API\n",
      "200\n",
      "saving to file: ..\\data\\raw_data\\movies\\movie_reviews_240.json\n",
      "movie_reviews_260.json\n",
      "resolve_nyt_json(): downloading from NYT API\n",
      "200\n",
      "saving to file: ..\\data\\raw_data\\movies\\movie_reviews_260.json\n",
      "movie_reviews_280.json\n",
      "resolve_nyt_json(): downloading from NYT API\n",
      "200\n"
     ]
    }
   ],
   "source": [
    "offset = 0\n",
    "has_more_reviews = True\n",
    "while has_more_reviews:\n",
    "    response = resolve_movie_reviews(offset)\n",
    "    \n",
    "    # Print one so we can examine the structure.\n",
    "    #if offset == 0:\n",
    "    #    print(response)\n",
    "\n",
    "    has_more_reviews = response['has_more']\n",
    "    offset += 20\n",
    "    \n",
    "print(\"Finished\")"
   ]
  },
  {
   "cell_type": "raw",
   "metadata": {
    "collapsed": true
   },
   "source": [
    "{'status': 'OK', 'copyright': 'Copyright (c) 2017 The New York Times Company. All Rights Reserved.', 'has_more': True, 'num_results': 20, 'results': [{'display_title': 'The Lost City of Z', 'mpaa_rating': 'PG-13', 'critics_pick': 1, 'byline': 'MANOHLA DARGIS', 'headline': 'Review: Hearts of Darkness and Light in ‘The Lost City of Z’', 'summary_short': 'Charlie Hunnam stars in this period adventure story about love, loss and mystery in the Amazon from the director James Gray.', 'publication_date': '2017-04-13', 'opening_date': '2017-04-14', 'date_updated': '2017-04-18 16:44:22', 'link': {'type': 'article', 'url': 'http://www.nytimes.com/2017/04/13/movies/the-lost-city-of-z-review-charlie-hunnam.html', 'suggested_link_text': 'Read the New York Times Review of The Lost City of Z'}, 'multimedia': {'type': 'mediumThreeByTwo210', 'src': 'https://static01.nyt.com/images/2017/04/14/arts/14lostcity1/14lostcity1-mediumThreeByTwo210.jpg', 'width': 210, 'height': 140}}, {'display_title': 'A Quiet Passion', 'mpaa_rating': 'PG-13', 'critics_pick': 1, 'byline': 'A. O. SCOTT', 'headline': 'Review: ‘A Quiet Passion’ Poetically Captures Emily Dickinson', 'summary_short': 'Cynthia Nixon brings a great 19th-century American poet to vivid life in Terence Davies’s new film.', 'publication_date': '2017-04-13', 'opening_date': None, 'date_updated': '2017-04-18 16:44:21', 'link': {'type': 'article', 'url': 'http://www.nytimes.com/2017/04/13/movies/review-a-quiet-passion-poetically-captures-emily-dickinson.html', 'suggested_link_text': 'Read the New York Times Review of A Quiet Passion'}, 'multimedia': {'type': 'mediumThreeByTwo210', 'src': 'https://static01.nyt.com/images/2017/04/14/arts/0414QUIET-PRINT/0414QUIET-PRINT-mediumThreeByTwo210.jpg', 'width': 210, 'height': 140}}, {'display_title': 'Norman', 'mpaa_rating': 'R', 'critics_pick': 1, 'byline': 'A. O. SCOTT', 'headline': 'Review: Richard Gere as ‘Norman,’ an Aspirational Fixer', 'summary_short': '‘Norman: The Moderate Rise and Tragic Fall of a New York Fixer,’ Joseph Cedar’s latest film, pits Jew against Jew on the fringes of power and influence.', 'publication_date': '2017-04-13', 'opening_date': '2017-04-14', 'date_updated': '2017-04-18 16:44:21', 'link': {'type': 'article', 'url': 'http://www.nytimes.com/2017/04/13/movies/norman-review-richard-gere.html', 'suggested_link_text': 'Read the New York Times Review of Norman'}, 'multimedia': {'type': 'mediumThreeByTwo210', 'src': 'https://static01.nyt.com/images/2017/04/14/arts/14norman/14norman-mediumThreeByTwo210-v2.jpg', 'width': 210, 'height': 140}}, {'display_title': \"Tommy's Honour\", 'mpaa_rating': 'PG', 'critics_pick': 0, 'byline': 'JEANNETTE CATSOULIS', 'headline': 'Review: In ‘Tommy’s Honour,’ a Family Feud on and Off the Green', 'summary_short': 'The director Jason Connery’s staid biopic is about the 19th-century golf pioneer Tom Morris and his son, with class conflict as a backdrop.', 'publication_date': '2017-04-13', 'opening_date': '2017-04-14', 'date_updated': '2017-04-18 16:44:26', 'link': {'type': 'article', 'url': 'http://www.nytimes.com/2017/04/13/movies/tommys-honour-review.html', 'suggested_link_text': \"Read the New York Times Review of Tommy's Honour\"}, 'multimedia': {'type': 'mediumThreeByTwo210', 'src': 'https://static01.nyt.com/images/2017/04/14/arts/14tommy1/14tommy1-mediumThreeByTwo210.jpg', 'width': 210, 'height': 140}}, {'display_title': 'My Entire High School Sinking Into the Sea', 'mpaa_rating': 'PG-13', 'critics_pick': 0, 'byline': 'GLENN KENNY', 'headline': 'Review: Angst, Jealousy and ‘My Entire High School Sinking Into the Sea’', 'summary_short': 'Teenage anxiety (voiced by Dash Shaw, Lena Dunham and others) takes a back seat to survival after an earthquake hits a cliffside high school.', 'publication_date': '2017-04-13', 'opening_date': None, 'date_updated': '2017-04-13 21:58:02', 'link': {'type': 'article', 'url': 'http://www.nytimes.com/2017/04/13/movies/my-entire-high-school-sinking-into-the-sea-review.html', 'suggested_link_text': 'Read the New York Times Review of My Entire High School Sinking Into the Sea'}, 'multimedia': {'type': 'mediumThreeByTwo210', 'src': 'https://static01.nyt.com/images/2017/04/14/arts/14myentire2/14myentire2-mediumThreeByTwo210.jpg', 'width': 210, 'height': 140}}, {'display_title': 'Mimosas', 'mpaa_rating': '', 'critics_pick': 0, 'byline': 'JEANNETTE CATSOULIS', 'headline': 'Review: In ‘Mimosas,’ a Cryptic Mountain Trek', 'summary_short': 'In following nomads on a mission in Morocco, this tale considers the fortifying power of faith, while scrambling the viewer’s sense of time.', 'publication_date': '2017-04-13', 'opening_date': None, 'date_updated': '2017-04-18 16:44:25', 'link': {'type': 'article', 'url': 'http://www.nytimes.com/2017/04/13/movies/mimosas-review.html', 'suggested_link_text': 'Read the New York Times Review of Mimosas'}, 'multimedia': {'type': 'mediumThreeByTwo210', 'src': 'https://static01.nyt.com/images/2017/04/14/arts/14mimosas3/14mimosas3-mediumThreeByTwo210.jpg', 'width': 210, 'height': 140}}, {'display_title': 'Maurizio Cattelan: Be Right Back', 'mpaa_rating': '', 'critics_pick': 0, 'byline': 'KEN JAWOROWSKI', 'headline': 'Review: ‘Maurizio Cattelan: Be Right Back’ Relishes a Mischievous Artist', 'summary_short': 'The documentary explores the artworks and pranks of an Italian trickster.', 'publication_date': '2017-04-13', 'opening_date': '2016-04-01', 'date_updated': '2017-04-18 16:44:25', 'link': {'type': 'article', 'url': 'http://www.nytimes.com/2017/04/13/movies/maurizio-cattelan-be-right-back-review.html', 'suggested_link_text': 'Read the New York Times Review of Maurizio Cattelan: Be Right Back'}, 'multimedia': {'type': 'mediumThreeByTwo210', 'src': 'https://static01.nyt.com/images/2017/04/14/arts/14maurizio/14maurizio-mediumThreeByTwo210.jpg', 'width': 210, 'height': 140}}, {'display_title': 'Little Boxes', 'mpaa_rating': '', 'critics_pick': 0, 'byline': 'NEIL GENZLINGER', 'headline': 'Review: In ‘Little Boxes,’ a Biracial Family Meets a White Town', 'summary_short': 'A family ventures beyond the bubble of gentrified Brooklyn to a small town and is thrown out of its comfort zone.', 'publication_date': '2017-04-13', 'opening_date': '2017-04-14', 'date_updated': '2017-04-18 16:44:24', 'link': {'type': 'article', 'url': 'http://www.nytimes.com/2017/04/13/movies/little-boxes-review.html', 'suggested_link_text': 'Read the New York Times Review of Little Boxes'}, 'multimedia': {'type': 'mediumThreeByTwo210', 'src': 'https://static01.nyt.com/images/2017/04/14/arts/14littlebox/14littlebox-mediumThreeByTwo210.jpg', 'width': 210, 'height': 140}}, {'display_title': 'Finding Oscar', 'mpaa_rating': '', 'critics_pick': 0, 'byline': 'KEN JAWOROWSKI', 'headline': 'Review: ‘Finding Oscar,’ and Hope, in Massacre’s Aftermath', 'summary_short': 'This documentary looks at a Guatemalan village that was wiped out during a civil war, and searches for one of the few survivors.', 'publication_date': '2017-04-13', 'opening_date': '2017-04-14', 'date_updated': '2017-04-18 16:44:24', 'link': {'type': 'article', 'url': 'http://www.nytimes.com/2017/04/13/movies/finding-oscar-review.html', 'suggested_link_text': 'Read the New York Times Review of Finding Oscar'}, 'multimedia': {'type': 'mediumThreeByTwo210', 'src': 'https://static01.nyt.com/images/2017/04/14/arts/14findoscar-1491598535170/14findoscar-1491598535170-mediumThreeByTwo210.jpg', 'width': 210, 'height': 140}}, {'display_title': 'Chasing Trane: The John Coltrane Documentary', 'mpaa_rating': '', 'critics_pick': 0, 'byline': 'BEN KENIGSBERG', 'headline': 'Review: In ‘Chasing Trane,’ Where’s the Joy of Sax?', 'summary_short': 'John Scheinfeld’s documentary about John Coltrane draws on interviews, including those with Bill Clinton, Carlos Santana and Cornel West.', 'publication_date': '2017-04-13', 'opening_date': '2017-04-14', 'date_updated': '2017-04-18 16:44:23', 'link': {'type': 'article', 'url': 'http://www.nytimes.com/2017/04/13/movies/chasing-trane-the-john-coltrane-documentary-review.html', 'suggested_link_text': 'Read the New York Times Review of Chasing Trane: The John Coltrane Documentary'}, 'multimedia': {'type': 'mediumThreeByTwo210', 'src': 'https://static01.nyt.com/images/2017/04/14/arts/14chasing1/14chasing1-mediumThreeByTwo210.jpg', 'width': 210, 'height': 140}}, {'display_title': 'By the Time It Gets Dark', 'mpaa_rating': '', 'critics_pick': 0, 'byline': 'BEN KENIGSBERG', 'headline': 'Review: A Fragmented Past in ‘By the Time It Gets Dark’', 'summary_short': 'In examining a violent suppression of university protesters in Bangkok, this film uses a mutating narrative to reflect the impossibility of revisiting history.', 'publication_date': '2017-04-13', 'opening_date': None, 'date_updated': '2017-04-18 16:44:23', 'link': {'type': 'article', 'url': 'http://www.nytimes.com/2017/04/13/movies/by-the-time-it-gets-dark-review.html', 'suggested_link_text': 'Read the New York Times Review of By the Time It Gets Dark'}, 'multimedia': {'type': 'mediumThreeByTwo210', 'src': 'https://static01.nyt.com/images/2017/04/14/arts/14bytime-print/14bytime-print-mediumThreeByTwo210.jpg', 'width': 210, 'height': 140}}, {'display_title': 'All These Sleepless Nights', 'mpaa_rating': 'R', 'critics_pick': 0, 'byline': 'BEN KENIGSBERG', 'headline': 'Review: ‘All These Sleepless Nights’ Roams the Streets of Warsaw', 'summary_short': 'A Polish film follows its young protagonist as he flirts, attends parties until dawn and gyrates to a perpetual backbeat.', 'publication_date': '2017-04-13', 'opening_date': '2017-04-07', 'date_updated': '2017-04-18 16:44:23', 'link': {'type': 'article', 'url': 'http://www.nytimes.com/2017/04/13/movies/all-these-sleepless-nights-review.html', 'suggested_link_text': 'Read the New York Times Review of All These Sleepless Nights'}, 'multimedia': {'type': 'mediumThreeByTwo210', 'src': 'https://static01.nyt.com/images/2017/04/14/arts/14allsleep1/14allsleep1-mediumThreeByTwo210.jpg', 'width': 210, 'height': 140}}, {'display_title': 'Heal the Living', 'mpaa_rating': '', 'critics_pick': 0, 'byline': 'JEANNETTE CATSOULIS', 'headline': 'Review: ‘Heal the Living,’ a Sentimental Sales Pitch for Organ Donation', 'summary_short': 'Life, death and a heart transplant are at the center of this French film that moves among three distinct groups.', 'publication_date': '2017-04-13', 'opening_date': None, 'date_updated': '2017-04-18 16:44:22', 'link': {'type': 'article', 'url': 'http://www.nytimes.com/2017/04/13/movies/heal-the-living-review.html', 'suggested_link_text': 'Read the New York Times Review of Heal the Living'}, 'multimedia': {'type': 'mediumThreeByTwo210', 'src': 'https://static01.nyt.com/images/2017/04/14/arts/14healliving1/14healliving1-mediumThreeByTwo210-v2.jpg', 'width': 210, 'height': 140}}, {'display_title': 'The Fate of the Furious', 'mpaa_rating': 'PG-13', 'critics_pick': 0, 'byline': 'MANOHLA DARGIS', 'headline': 'Review: Family Values and Hot Rides in ‘Fate of the Furious’', 'summary_short': 'Each installment of “Fast and Furious” is more enjoyably ludicrous than the last, even as the death of the star Paul Walker continues to hang over the franchise.', 'publication_date': '2017-04-12', 'opening_date': '2017-04-14', 'date_updated': '2017-04-18 16:44:21', 'link': {'type': 'article', 'url': 'http://www.nytimes.com/2017/04/12/movies/fate-of-the-furious-review-fast-and-furious-8.html', 'suggested_link_text': 'Read the New York Times Review of The Fate of the Furious'}, 'multimedia': {'type': 'mediumThreeByTwo210', 'src': 'https://static01.nyt.com/images/2017/04/14/arts/14fatefurious1/14fatefurious1-mediumThreeByTwo210.jpg', 'width': 210, 'height': 140}}, {'display_title': 'Glory', 'mpaa_rating': '', 'critics_pick': 1, 'byline': 'GLENN KENNY', 'headline': 'Review: The ‘Glory’ of a Good Deed (and Its Fallout)', 'summary_short': 'A railroad worker dutifully turns in the cash he finds strewn across on the tracks but soon comes to regret it in this incisive, funny Bulgarian film.', 'publication_date': '2017-04-11', 'opening_date': None, 'date_updated': '2017-04-18 16:44:20', 'link': {'type': 'article', 'url': 'http://www.nytimes.com/2017/04/11/movies/glory-review.html', 'suggested_link_text': 'Read the New York Times Review of Glory'}, 'multimedia': {'type': 'mediumThreeByTwo210', 'src': 'https://static01.nyt.com/images/2017/04/12/arts/12glory1/12glory1-mediumThreeByTwo210.jpg', 'width': 210, 'height': 140}}, {'display_title': 'Your Name', 'mpaa_rating': 'PG', 'critics_pick': 1, 'byline': 'MANOHLA DARGIS', 'headline': 'Review: ‘Your Name’ Takes Adolescent Identity Crises to Extremes', 'summary_short': 'Manohla Dargis reviews Makoto Shinkai’s latest film, a lovely and touching Japanese animation in which teenagers find themselves trading bodies and lives.', 'publication_date': '2017-04-06', 'opening_date': '2017-04-07', 'date_updated': '2017-04-18 16:44:18', 'link': {'type': 'article', 'url': 'http://www.nytimes.com/2017/04/06/movies/your-name-review.html', 'suggested_link_text': 'Read the New York Times Review of Your Name'}, 'multimedia': {'type': 'mediumThreeByTwo210', 'src': 'https://static01.nyt.com/images/2017/04/07/arts/07yourname1/07yourname1-mediumThreeByTwo210-v2.jpg', 'width': 210, 'height': 140}}, {'display_title': 'Graduation', 'mpaa_rating': 'R', 'critics_pick': 1, 'byline': 'A. O. SCOTT', 'headline': 'Review: ‘Graduation’ and the Anguish of Living Vicariously', 'summary_short': 'An excruciating ethical problem arises for a man whose dream for his daughter — to win a scholarship to study in England — is threatened.', 'publication_date': '2017-04-06', 'opening_date': None, 'date_updated': '2017-04-18 16:44:17', 'link': {'type': 'article', 'url': 'http://www.nytimes.com/2017/04/06/movies/graduation-review.html', 'suggested_link_text': 'Read the New York Times Review of Graduation'}, 'multimedia': {'type': 'mediumThreeByTwo210', 'src': 'https://static01.nyt.com/images/2017/04/07/arts/07gradu/07gradu-mediumThreeByTwo210.jpg', 'width': 210, 'height': 140}}, {'display_title': 'The Transfiguration', 'mpaa_rating': '', 'critics_pick': 0, 'byline': 'ANDY WEBSTER', 'headline': 'Review: In ‘The Transfiguration,’ Coping With Bullies and Craving Blood', 'summary_short': 'A New York teenager in low-income housing tries to establish a relationship with a young woman as he wrestles with his sanguinary pursuits.', 'publication_date': '2017-04-06', 'opening_date': None, 'date_updated': '2017-04-18 16:44:20', 'link': {'type': 'article', 'url': 'http://www.nytimes.com/2017/04/06/movies/the-transfiguration-review.html', 'suggested_link_text': 'Read the New York Times Review of The Transfiguration'}, 'multimedia': {'type': 'mediumThreeByTwo210', 'src': 'https://static01.nyt.com/images/2017/04/07/arts/07transfigure2/07transfigure2-mediumThreeByTwo210.jpg', 'width': 210, 'height': 140}}, {'display_title': 'Speech & Debate', 'mpaa_rating': 'PG-13', 'critics_pick': 0, 'byline': 'NEIL GENZLINGER', 'headline': 'Review: 3 Teenagers Seek a Voice in ‘Speech & Debate’', 'summary_short': 'Stephen Karam’s film adaptation of his own play is a comedy about students who don’t quite fit in but insist, in their clumsy way, on being heard.', 'publication_date': '2017-04-06', 'opening_date': '2017-04-07', 'date_updated': '2017-04-14 16:44:02', 'link': {'type': 'article', 'url': 'http://www.nytimes.com/2017/04/06/movies/speech-and-debate-review.html', 'suggested_link_text': 'Read the New York Times Review of Speech & Debate'}, 'multimedia': {'type': 'mediumThreeByTwo210', 'src': 'https://static01.nyt.com/images/2017/04/07/arts/07speech2/07speech2-mediumThreeByTwo210.jpg', 'width': 210, 'height': 140}}, {'display_title': 'Going in Style', 'mpaa_rating': 'PG-13', 'critics_pick': 0, 'byline': 'NEIL GENZLINGER', 'headline': 'Review: ‘Going in Style’ Proves Crime Has No Age Limit', 'summary_short': 'Michael Caine, Alan Arkin and Morgan Freeman star in a comedy about old dudes who rob a bank, a remake of a 1979 movie.', 'publication_date': '2017-04-06', 'opening_date': '2017-04-07', 'date_updated': '2017-04-18 16:44:19', 'link': {'type': 'article', 'url': 'http://www.nytimes.com/2017/04/06/movies/going-in-style-review.html', 'suggested_link_text': 'Read the New York Times Review of Going in Style'}, 'multimedia': {'type': 'mediumThreeByTwo210', 'src': 'https://static01.nyt.com/images/2017/04/07/arts/07goingstyle/07goingstyle-mediumThreeByTwo210.jpg', 'width': 210, 'height': 140}}]}"
   ]
  },
  {
   "cell_type": "code",
   "execution_count": null,
   "metadata": {
    "collapsed": true
   },
   "outputs": [],
   "source": []
  }
 ],
 "metadata": {
  "anaconda-cloud": {},
  "kernelspec": {
   "display_name": "Python [default]",
   "language": "python",
   "name": "python3"
  },
  "language_info": {
   "codemirror_mode": {
    "name": "ipython",
    "version": 3
   },
   "file_extension": ".py",
   "mimetype": "text/x-python",
   "name": "python",
   "nbconvert_exporter": "python",
   "pygments_lexer": "ipython3",
   "version": "3.5.2"
  }
 },
 "nbformat": 4,
 "nbformat_minor": 1
}
