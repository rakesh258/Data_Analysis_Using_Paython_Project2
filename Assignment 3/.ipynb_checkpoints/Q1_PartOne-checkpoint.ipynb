{
 "cells": [
  {
   "cell_type": "markdown",
   "metadata": {},
   "source": [
    "################################################################################################################################\n",
    "#          Assignment 3: Author-Vaishali Lambe, NUID-001286444                            #\n",
    "################################################################################################################################\n",
    "\n",
    "## Q1 Part1\n",
    "* Use \"vehicle_collisions' dataset\n",
    "* For each month in 2016, find out the percentage of collisions in Manhattan out of that years total accidents in New York city\n",
    "* Display few rows of output, use df.head()\n",
    "* Generate the csv output with four columns('Month','Manhattan','NYC','Percentage')\n",
    "################################################################################################################################"
   ]
  }
 ],
 "metadata": {
  "anaconda-cloud": {},
  "kernelspec": {
   "display_name": "Python [default]",
   "language": "python",
   "name": "python3"
  },
  "language_info": {
   "codemirror_mode": {
    "name": "ipython",
    "version": 3
   },
   "file_extension": ".py",
   "mimetype": "text/x-python",
   "name": "python",
   "nbconvert_exporter": "python",
   "pygments_lexer": "ipython3",
   "version": "3.5.2"
  }
 },
 "nbformat": 4,
 "nbformat_minor": 1
}
